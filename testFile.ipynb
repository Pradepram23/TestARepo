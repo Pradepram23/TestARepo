{
 "cells": [
  {
   "cell_type": "code",
   "execution_count": null,
   "id": "facbb2e5-abd1-4075-82c5-7b2f227327d2",
   "metadata": {},
   "outputs": [],
   "source": [
    "# 123"
   ]
  }
 ],
 "metadata": {
  "kernelspec": {
   "display_name": "Python 3 (ipykernel)",
   "language": "python",
   "name": "python3"
  },
  "language_info": {
   "codemirror_mode": {
    "name": "ipython",
    "version": 3
   },
   "file_extension": ".py",
   "mimetype": "text/x-python",
   "name": "python",
   "nbconvert_exporter": "python",
   "pygments_lexer": "ipython3",
   "version": "3.9.10"
  }
 },
 "nbformat": 4,
 "nbformat_minor": 5
}
